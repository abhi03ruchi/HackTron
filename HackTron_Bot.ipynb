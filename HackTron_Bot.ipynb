{
  "nbformat": 4,
  "nbformat_minor": 0,
  "metadata": {
    "colab": {
      "provenance": [],
      "include_colab_link": true
    },
    "kernelspec": {
      "name": "python3",
      "display_name": "Python 3"
    },
    "language_info": {
      "name": "python"
    }
  },
  "cells": [
    {
      "cell_type": "markdown",
      "metadata": {
        "id": "view-in-github",
        "colab_type": "text"
      },
      "source": [
        "<a href=\"https://colab.research.google.com/github/abhi03ruchi/HackTron/blob/main/HackTron_Bot.ipynb\" target=\"_parent\"><img src=\"https://colab.research.google.com/assets/colab-badge.svg\" alt=\"Open In Colab\"/></a>"
      ]
    },
    {
      "cell_type": "code",
      "source": [
        "import nltk\n",
        "import numpy as np\n",
        "import string\n",
        "import warnings\n",
        "warnings.filterwarnings(\"ignore\")"
      ],
      "metadata": {
        "id": "y6iRM5epEUBp"
      },
      "execution_count": null,
      "outputs": []
    },
    {
      "cell_type": "code",
      "source": [
        "import nltk\n",
        "nltk.download('omw-1.4')"
      ],
      "metadata": {
        "colab": {
          "base_uri": "https://localhost:8080/"
        },
        "id": "csp4ei0UKrE2",
        "outputId": "f498c3d0-96d0-468a-e9a1-91d653efac1f"
      },
      "execution_count": null,
      "outputs": [
        {
          "output_type": "stream",
          "name": "stderr",
          "text": [
            "[nltk_data] Downloading package omw-1.4 to /root/nltk_data...\n",
            "[nltk_data]   Package omw-1.4 is already up-to-date!\n"
          ]
        },
        {
          "output_type": "execute_result",
          "data": {
            "text/plain": [
              "True"
            ]
          },
          "metadata": {},
          "execution_count": 46
        }
      ]
    },
    {
      "cell_type": "code",
      "source": [
        "f = open('/content/BotDataset (2).txt','r',errors = 'ignore', encoding = 'utf-8')\n",
        "paragraph = f.read()\n",
        "paragraph"
      ],
      "metadata": {
        "colab": {
          "base_uri": "https://localhost:8080/",
          "height": 140
        },
        "id": "uH27KIpVEVCa",
        "outputId": "2951d7e1-a7e8-4f90-f25e-404bc35dcf5e"
      },
      "execution_count": null,
      "outputs": [
        {
          "output_type": "execute_result",
          "data": {
            "text/plain": [
              "'\\ufeffHackathon is an event lasting several days in which a large number of people come together to collaborate on software or hardware projects and they are often organised by companies, universities or other organisations, and can have a specific theme or focus. The goal of a hackathon is to promote innovation and creativity, and to bring together individuals with diverse skill sets to work on new ideas and technologies.\\n]Hackathons tend to have a specific focus, which can include the programming language used, the operating system, an application, an API, or the subject and the demographic group of the programmers. In other cases, there is no restriction on the type of software being created or the design of the new system. \\nOne should participate in hackathons because it can be a great opportunity to learn new skills, meet new people and potentially develop an idea into a working prototype. If you are looking to gain experience in a particular field or if you are interested in working on a specific problem or theme is a good way to get started.\\nDatathons or data-focused hackathons challenge data scientists working with others attending to together use creativity and data analysis skills and platforms to build, test and explore solutions and dashboards which analyse huge datasets in a limited amount of time. Datathons are used to deliver insights in big public and private datasets in various disciplines including business, health care news, media and for social causes.\\nCode sprints work on a single application, such as an operating system, programming language, or content management system and are especially popular for open source software projects, such events are sometimes the only opportunity for developers to meet face-to-face. Code sprints last from one week to three weeks and often take place near conferences at which most of the team attend. \\nThe registrations are open for these hackathons currently ServiceNow , Low Code Nirvana and Tri NIT hackathon. You can try these to learn and grow in the field of technology.\\nServiceNow Women Code to Win Hackathon invites female engineering students pursuing a career in technology to create impact and help solve some of the most challenging real-life problems at annual Women Code to Win 2023 – India. Eligibility Criteria for Women Code to Win – India is for female full-time students across all engineering colleges in India who are pursuing BE/ BTech/ ME/ MTech/ Dual Degree/ MSc/ MCA and graduating in the year 2023/ 2024/ 2025. Registration Deadline for ServiceNow is 01 Feb 23, 11:59 PM IST. Competition Levels in SericeNow include Level 1 Quizzing + Coding this is the entry level to ServiceNow Women Code to Win Contest which will test the student teams based on their technical and coding skills and this round has two parts of evaluations: Multiple Choice Questions (MCQ) and Coding. Level 2 in ServiceNow is – Ideathon this level will challenge the student teams on their creative thinking, problem-solving and design thinking skills. Problem statements for this level are Future of Sustainable Environment, Future of Workplace, Future of Automation (Hyperautomation) and Future of Education. Level 3 in ServiceNow is – Prototype Building and Finale Presentation this level aims to test the technical, functional, innovation and problem-solving capabilities of the participating teams and shortlisted student teams will be allocated 2 mentors per team from ServiceNow who will guide them in building the prototype. Online Quiz and Coding Round Deadline in ServiceNow is 04 Feb 23, 09:00 PM IST and Level 1 Results Declaration will be on 06 Feb 23, 06:00 PM IST. To register for ServiceNow Hackathon visit https://unstop.com/competition/servicenow-women-code-to-win-2023-india-servicenow-519305?ref=aBONuHDj&s=08\\nLow Code Nirvana is a unique low-code hackathon that will teach participants how to create creative solutions to real-world problems without having much technical skills. The Deadline to  register for Low Code Nirvana is 03 Feb 23, 12:00 AM IST. The Team size of Low Code Nirvana is 2 , and inter college teams are allowed.Low Code Nirvana teams would have to build an innovative solution based on the given problem statement. The platform used in Low Code Nirvana is RunCode.io . Top teams with the best solutions would get to present offline. \\nThe Tri-NIT Hackathon is a 36-hour event where thousands of students from all over India come together to work on fun problem statements based on software and electronics domain to give an obliging solution. The National Institute of Technology , Trichy is organising the Tri-NIT Hackathon. The Tri-NIT Hackathon is a perfect collaboration between the prestigious colleges brings you a golden opportunity to test your skills against the best for cash prizes, varied opportunities, goodies and more! Goal of Tri-NIT Hackathon is to build and create technology projects from scratch, which the experienced judges will judge to give the top contestants. Tri-NIT Hackathon gives you chance to win prize money worth Rs. 1,00,000+ sponsored by Qualcomm, BharatX and Postman with potential internship and full time opportunities as well!. The Tri-NIT Hackathon commences on February 10, 2023, and concludes on February 12, 2023.The Tri-NIT Hackathon  participants can participate alone or in groups of two or a group of a maximum of three. The deadline to register for Tri-NIT Hackathon is not finalised yet.. you can checkout their website too for more details https://unstop.com/hackathon/the-tri-nit-hackathon-national-institute-of-technology-nit-trichy-594092 . \\nHack the Crisis Global Hackathon is a global hackathon that aims to bring together developers, designers, and entrepreneurs to solve problems related to the COVID-19 pandemic you can checkout more at https://www.mygov.in/task/hack-crisis-%E2%80%93-india-online-hackathon/ .\\nThe Climate Strike Hackathon is a hackathon that focuses on developing solutions to mitigate the effects of climate change , you can find more details at https://climatechangemakers.devpost.com/ .\\nNASA Space Apps Challenge is a global hackathon that focuses on developing solutions to problems related to space exploration and the Earth , you can explore more at there website.'"
            ],
            "application/vnd.google.colaboratory.intrinsic+json": {
              "type": "string"
            }
          },
          "metadata": {},
          "execution_count": 47
        }
      ]
    },
    {
      "cell_type": "code",
      "source": [
        "greetings = ['Hey', 'Hello', 'Hi', 'It’s great to see you', 'Nice to see you', 'Good to see you']\n",
        "bye = ['Bye', 'Bye-Bye', 'Goodbye', 'Have a good day','Stop']\n",
        "thank_you = ['Thanks', 'Thank you', 'Thanks a bunch', 'Thanks a lot.', 'Thank you very much', 'Thanks so much', 'Thank you so much']\n",
        "thank_response = ['You\\'re welcome.' , 'No problem.', 'No worries.', ' My pleasure.' , 'It was the least I could do.', 'Glad to help.']"
      ],
      "metadata": {
        "id": "_-KEcY9dEcSs"
      },
      "execution_count": null,
      "outputs": []
    },
    {
      "cell_type": "code",
      "source": [
        "nltk.download('punkt')   # for first-time use only\n",
        "nltk.download('wordnet')    # for first-time use only\n",
        "\n",
        "\n",
        "sent_tokens = nltk.sent_tokenize(paragraph)\n",
        "word_tokens = nltk.word_tokenize(paragraph)"
      ],
      "metadata": {
        "colab": {
          "base_uri": "https://localhost:8080/"
        },
        "id": "EQvmUSGCElD6",
        "outputId": "b86a8fd2-b8f4-4d87-df45-2b339a0ed77c"
      },
      "execution_count": null,
      "outputs": [
        {
          "output_type": "stream",
          "name": "stderr",
          "text": [
            "[nltk_data] Downloading package punkt to /root/nltk_data...\n",
            "[nltk_data]   Package punkt is already up-to-date!\n",
            "[nltk_data] Downloading package wordnet to /root/nltk_data...\n",
            "[nltk_data]   Package wordnet is already up-to-date!\n"
          ]
        }
      ]
    },
    {
      "cell_type": "code",
      "source": [
        "sent_tokens[:1]"
      ],
      "metadata": {
        "colab": {
          "base_uri": "https://localhost:8080/"
        },
        "id": "JZ_q-SJ7EolG",
        "outputId": "fbdc6884-a641-49bd-8d74-de2f98d528e4"
      },
      "execution_count": null,
      "outputs": [
        {
          "output_type": "execute_result",
          "data": {
            "text/plain": [
              "['\\ufeffHackathon is an event lasting several days in which a large number of people come together to collaborate on software or hardware projects and they are often organised by companies, universities or other organisations, and can have a specific theme or focus.']"
            ]
          },
          "metadata": {},
          "execution_count": 50
        }
      ]
    },
    {
      "cell_type": "code",
      "source": [
        "word_tokens[:7]"
      ],
      "metadata": {
        "colab": {
          "base_uri": "https://localhost:8080/"
        },
        "id": "-JjorbOlEsRn",
        "outputId": "6445028a-8596-4a2c-b7c2-501737d29afe"
      },
      "execution_count": null,
      "outputs": [
        {
          "output_type": "execute_result",
          "data": {
            "text/plain": [
              "['\\ufeffHackathon', 'is', 'an', 'event', 'lasting', 'several', 'days']"
            ]
          },
          "metadata": {},
          "execution_count": 51
        }
      ]
    },
    {
      "cell_type": "code",
      "source": [
        "# Lemmitization\n",
        "\n",
        "lemmer = nltk.stem.WordNetLemmatizer()\n",
        "def LemTokens(tokens):\n",
        "    return [lemmer.lemmatize(token) for token in tokens]    # iterate through every token and lemmatize it\n",
        "# string.punctuation has all the punctuations\n",
        "# ord(punct) convert punctuation to its ASCII value\n",
        "# dict contains {ASCII: None} for punctuation mark\n",
        "\n",
        "remove_punct_dict = dict((ord(punct), None) for punct in string.punctuation)\n",
        "\n",
        "# remove_punct_dict\n",
        "# This will return the word to LemTokens after Word tokenize, lowering its case and removing punctuation mark\n",
        "# translate will find punctuation mark in remove_punct_dict and if found replace it with None\n",
        "\n",
        "def Normalize(text):\n",
        "    return LemTokens(nltk.word_tokenize(text.lower().translate(remove_punct_dict)))"
      ],
      "metadata": {
        "id": "328O1vlzEv0G"
      },
      "execution_count": null,
      "outputs": []
    },
    {
      "cell_type": "code",
      "source": [
        "from sklearn.feature_extraction.text import TfidfVectorizer   # For Tfid Vectorizer\n",
        "from sklearn.metrics.pairwise import cosine_similarity   # For cosine similarity"
      ],
      "metadata": {
        "id": "0ol_vyn1E20V"
      },
      "execution_count": null,
      "outputs": []
    },
    {
      "cell_type": "code",
      "source": [
        "def response(user_response):\n",
        "    robo_response = ''\n",
        "    \n",
        "    sent_tokens.append(user_response)   # Appending the Question user ask to sent_tokens to find the Tf-Idf and cosine_similarity between User query and the content.\n",
        "    TfidfVec = TfidfVectorizer(tokenizer = Normalize, stop_words='english')    #tokenizer ask about Pre-processing parameter and it will consume the Normalize() function and it will also remove StopWords\n",
        "    tfidf = TfidfVec.fit_transform(sent_tokens)\n",
        "\n",
        "    vals = cosine_similarity(tfidf[-1], tfidf)    # It will do cosine_similarity between last vectors and all the vectors because last vector contain the User query\n",
        "    idx = vals.argsort()[0][-2]     # argsort() will sort the tf_idf in ascending order. [-2] means second last index i.e. index of second highest value after sorting the cosine_similarity. Index of last element is not taken as query is added at end and it will have the cosine_similarity with itself.\n",
        "\n",
        "    flat = vals.flatten()   # [[0,...,0.89,1]] -> [0,...,0.89,1] this will make a single list of vals which had list inside a list.\n",
        "    flat.sort()\n",
        "    req_tfidf = flat[-2]  # this contains tfid value of second highest cosine similarity\n",
        "\n",
        "    if(req_tfidf == 0):    # 0 means there is no similarity between the question and answer\n",
        "        robo_response = robo_response + \"I am sorry! I don't understand you. Please rephrase you query.\"\n",
        "        return robo_response\n",
        "    \n",
        "    else:\n",
        "        robo_response = robo_response + sent_tokens[idx]    # return the sentences at index -2 as answer\n",
        "        return robo_response"
      ],
      "metadata": {
        "id": "PYW1xiUqE9Gz"
      },
      "execution_count": null,
      "outputs": []
    },
    {
      "cell_type": "code",
      "source": [
        "import random\n",
        "\n",
        "def bot_initialize(user_msg):\n",
        "    flag=True\n",
        "    while(flag==True):\n",
        "        user_response = user_msg\n",
        "        if(user_response not in bye):\n",
        "            if(user_response == '/start'):\n",
        "                bot_resp = \"\"\"Hi! There. I am your HackTron. I can solve all your doubts related to hackathons so feel free to ask :) . \\nType Bye to Exit.\"\"\" \n",
        "                return bot_resp\n",
        "            elif(user_response == '/stop'):\n",
        "                bot_resp= \"\"\"Bye Bye , hope I have solved all your Queries . \\nType /start or Hello to restart .\"\"\"\n",
        "                return bot_resp\n",
        "            elif(user_response in thank_you):\n",
        "                bot_resp = random.choice(thank_response)\n",
        "                return bot_resp\n",
        "            elif(user_response in greetings):\n",
        "                bot_resp = random.choice(greetings) + \", What information you what related to Hackathons \"\n",
        "                return bot_resp\n",
        "            else:\n",
        "                user_response = user_response.lower()\n",
        "                bot_resp = response(user_response)\n",
        "                sent_tokens.remove(user_response)   # remove user question from sent_token that we added in sent_token in response() to find the Tf-Idf and cosine_similarity\n",
        "                return bot_resp\n",
        "        else:\n",
        "            flag = False\n",
        "            bot_resp = random.choice(bye)\n",
        "            return bot_resp\n"
      ],
      "metadata": {
        "id": "PUwTIJd4FALq"
      },
      "execution_count": null,
      "outputs": []
    },
    {
      "cell_type": "code",
      "source": [
        "import requests\n",
        "import json\n",
        "\n",
        "class telegram_bot():\n",
        "    def __init__(self):\n",
        "        self.token = \"6054228918:AAFEspN8DxQhBNqszmZB9Y8XxLacCuypXU4\"    #write your token here!\n",
        "        self.url = f\"https://api.telegram.org/bot{self.token}\"\n",
        "\n",
        "    def get_updates(self,offset=None):\n",
        "        url = self.url+\"/getUpdates?timeout=100\"   # In 100 seconds if user input query then process that, use it as the read timeout from the server\n",
        "        if offset:\n",
        "            url = url+f\"&offset={offset+1}\"\n",
        "        url_info = requests.get(url)\n",
        "        return json.loads(url_info.content)\n",
        "\n",
        "    def send_message(self,msg,chat_id):\n",
        "        url = self.url + f\"/sendMessage?chat_id={chat_id}&text={msg}\"\n",
        "        if msg is not None:\n",
        "            requests.get(url)\n",
        "\n",
        "    def grab_token(self):\n",
        "        return tokens"
      ],
      "metadata": {
        "id": "4fjT1D-fFFJP"
      },
      "execution_count": null,
      "outputs": []
    },
    {
      "cell_type": "code",
      "source": [
        "tbot = telegram_bot()\n",
        "\n",
        "update_id = None\n",
        "\n",
        "def make_reply(msg):     # user input will go here\n",
        "  \n",
        "    if msg is not None:\n",
        "        reply = bot_initialize(msg)     # user input will start processing from bot_initialize function\n",
        "    return reply\n",
        "       \n",
        "while True:\n",
        "    print(\"...\")\n",
        "    updates = tbot.get_updates(offset=update_id)\n",
        "    updates = updates['result']\n",
        "    print(updates)\n",
        "    if updates:\n",
        "        for item in updates:\n",
        "            update_id = item[\"update_id\"]\n",
        "            print(update_id)\n",
        "            try:\n",
        "                message = item[\"message\"][\"text\"]\n",
        "                print(message)\n",
        "            except:\n",
        "                message = None\n",
        "            from_ = item[\"message\"][\"from\"][\"id\"]\n",
        "            print(from_)\n",
        "\n",
        "            reply = make_reply(message)\n",
        "            tbot.send_message(reply,from_)\n"
      ],
      "metadata": {
        "colab": {
          "base_uri": "https://localhost:8080/",
          "height": 1000
        },
        "id": "-TvLuwxEFRWF",
        "outputId": "7ee27dc4-003a-4902-8d9c-199eef9b9e50"
      },
      "execution_count": null,
      "outputs": [
        {
          "output_type": "stream",
          "name": "stdout",
          "text": [
            "...\n",
            "[{'update_id': 672917709, 'message': {'message_id': 31, 'from': {'id': 5830497355, 'is_bot': False, 'first_name': 'Gargi', 'language_code': 'en'}, 'chat': {'id': 5830497355, 'first_name': 'Gargi', 'type': 'private'}, 'date': 1674998023, 'text': '/start', 'entities': [{'offset': 0, 'length': 6, 'type': 'bot_command'}]}}]\n",
            "672917709\n",
            "/start\n",
            "5830497355\n",
            "...\n",
            "[{'update_id': 672917710, 'message': {'message_id': 33, 'from': {'id': 5830497355, 'is_bot': False, 'first_name': 'Gargi', 'language_code': 'en'}, 'chat': {'id': 5830497355, 'first_name': 'Gargi', 'type': 'private'}, 'date': 1674998063, 'text': 'What is the goal of hackathon ?'}}]\n",
            "672917710\n",
            "What is the goal of hackathon ?\n",
            "5830497355\n",
            "...\n",
            "[{'update_id': 672917711, 'message': {'message_id': 35, 'from': {'id': 5830497355, 'is_bot': False, 'first_name': 'Gargi', 'language_code': 'en'}, 'chat': {'id': 5830497355, 'first_name': 'Gargi', 'type': 'private'}, 'date': 1674998093, 'text': 'Why should I participate in Hackathons ?'}}]\n",
            "672917711\n",
            "Why should I participate in Hackathons ?\n",
            "5830497355\n",
            "...\n",
            "[{'update_id': 672917712, 'message': {'message_id': 37, 'from': {'id': 5830497355, 'is_bot': False, 'first_name': 'Gargi', 'language_code': 'en'}, 'chat': {'id': 5830497355, 'first_name': 'Gargi', 'type': 'private'}, 'date': 1674998123, 'text': 'Registrations of which hackathons are still open ?'}}]\n",
            "672917712\n",
            "Registrations of which hackathons are still open ?\n",
            "5830497355\n",
            "...\n",
            "[{'update_id': 672917713, 'message': {'message_id': 39, 'from': {'id': 5830497355, 'is_bot': False, 'first_name': 'Gargi', 'language_code': 'en'}, 'chat': {'id': 5830497355, 'first_name': 'Gargi', 'type': 'private'}, 'date': 1674998156, 'text': 'What is the eligibility criteria for ServiceNow Hackthon ?'}}]\n",
            "672917713\n",
            "What is the eligibility criteria for ServiceNow Hackthon ?\n",
            "5830497355\n",
            "...\n",
            "[{'update_id': 672917714, 'message': {'message_id': 41, 'from': {'id': 5830497355, 'is_bot': False, 'first_name': 'Gargi', 'language_code': 'en'}, 'chat': {'id': 5830497355, 'first_name': 'Gargi', 'type': 'private'}, 'date': 1674998179, 'text': 'Registration deadline for ServiceNow ?'}}]\n",
            "672917714\n",
            "Registration deadline for ServiceNow ?\n",
            "5830497355\n",
            "...\n",
            "[{'update_id': 672917715, 'message': {'message_id': 43, 'from': {'id': 5830497355, 'is_bot': False, 'first_name': 'Gargi', 'language_code': 'en'}, 'chat': {'id': 5830497355, 'first_name': 'Gargi', 'type': 'private'}, 'date': 1674998208, 'text': 'What is Deadline of Low Code Nirvana ?'}}]\n",
            "672917715\n",
            "What is Deadline of Low Code Nirvana ?\n",
            "5830497355\n",
            "...\n",
            "[{'update_id': 672917716, 'message': {'message_id': 45, 'from': {'id': 5830497355, 'is_bot': False, 'first_name': 'Gargi', 'language_code': 'en'}, 'chat': {'id': 5830497355, 'first_name': 'Gargi', 'type': 'private'}, 'date': 1674998239, 'text': 'Registration deadline for Tri-NIT Hackathon'}}]\n",
            "672917716\n",
            "Registration deadline for Tri-NIT Hackathon\n",
            "5830497355\n",
            "...\n",
            "[{'update_id': 672917717, 'message': {'message_id': 47, 'from': {'id': 5830497355, 'is_bot': False, 'first_name': 'Gargi', 'language_code': 'en'}, 'chat': {'id': 5830497355, 'first_name': 'Gargi', 'type': 'private'}, 'date': 1674998253, 'text': 'Thank you'}}]\n",
            "672917717\n",
            "Thank you\n",
            "5830497355\n",
            "...\n",
            "[]\n",
            "...\n",
            "[{'update_id': 672917718, 'message': {'message_id': 49, 'from': {'id': 5830497355, 'is_bot': False, 'first_name': 'Gargi', 'language_code': 'en'}, 'chat': {'id': 5830497355, 'first_name': 'Gargi', 'type': 'private'}, 'date': 1674998306, 'text': 'What is Hack the crisis global Hackathon'}}]\n",
            "672917718\n",
            "What is Hack the crisis global Hackathon\n",
            "5830497355\n",
            "...\n",
            "[{'update_id': 672917719, 'message': {'message_id': 51, 'from': {'id': 5830497355, 'is_bot': False, 'first_name': 'Gargi', 'language_code': 'en'}, 'chat': {'id': 5830497355, 'first_name': 'Gargi', 'type': 'private'}, 'date': 1674998328, 'text': 'Can you tell me about NASA Space Apps Challenge'}}]\n",
            "672917719\n",
            "Can you tell me about NASA Space Apps Challenge\n",
            "5830497355\n",
            "...\n",
            "[{'update_id': 672917720, 'message': {'message_id': 53, 'from': {'id': 5830497355, 'is_bot': False, 'first_name': 'Gargi', 'language_code': 'en'}, 'chat': {'id': 5830497355, 'first_name': 'Gargi', 'type': 'private'}, 'date': 1674998337, 'text': 'Thank you'}}]\n",
            "672917720\n",
            "Thank you\n",
            "5830497355\n",
            "...\n",
            "[{'update_id': 672917721, 'message': {'message_id': 55, 'from': {'id': 5830497355, 'is_bot': False, 'first_name': 'Gargi', 'language_code': 'en'}, 'chat': {'id': 5830497355, 'first_name': 'Gargi', 'type': 'private'}, 'date': 1674998344, 'text': 'Bye'}}]\n",
            "672917721\n",
            "Bye\n",
            "5830497355\n",
            "...\n",
            "[{'update_id': 672917722, 'message': {'message_id': 57, 'from': {'id': 5830497355, 'is_bot': False, 'first_name': 'Gargi', 'language_code': 'en'}, 'chat': {'id': 5830497355, 'first_name': 'Gargi', 'type': 'private'}, 'date': 1674998355, 'text': '/stop', 'entities': [{'offset': 0, 'length': 5, 'type': 'bot_command'}]}}]\n",
            "672917722\n",
            "/stop\n",
            "5830497355\n",
            "...\n",
            "[]\n",
            "...\n",
            "[]\n",
            "...\n"
          ]
        },
        {
          "output_type": "error",
          "ename": "KeyboardInterrupt",
          "evalue": "ignored",
          "traceback": [
            "\u001b[0;31m---------------------------------------------------------------------------\u001b[0m",
            "\u001b[0;31mTypeError\u001b[0m                                 Traceback (most recent call last)",
            "\u001b[0;32m/usr/local/lib/python3.8/dist-packages/urllib3/connectionpool.py\u001b[0m in \u001b[0;36m_make_request\u001b[0;34m(self, conn, method, url, timeout, chunked, **httplib_request_kw)\u001b[0m\n\u001b[1;32m    376\u001b[0m             \u001b[0;32mtry\u001b[0m\u001b[0;34m:\u001b[0m  \u001b[0;31m# Python 2.7, use buffering of HTTP responses\u001b[0m\u001b[0;34m\u001b[0m\u001b[0;34m\u001b[0m\u001b[0m\n\u001b[0;32m--> 377\u001b[0;31m                 \u001b[0mhttplib_response\u001b[0m \u001b[0;34m=\u001b[0m \u001b[0mconn\u001b[0m\u001b[0;34m.\u001b[0m\u001b[0mgetresponse\u001b[0m\u001b[0;34m(\u001b[0m\u001b[0mbuffering\u001b[0m\u001b[0;34m=\u001b[0m\u001b[0;32mTrue\u001b[0m\u001b[0;34m)\u001b[0m\u001b[0;34m\u001b[0m\u001b[0;34m\u001b[0m\u001b[0m\n\u001b[0m\u001b[1;32m    378\u001b[0m             \u001b[0;32mexcept\u001b[0m \u001b[0mTypeError\u001b[0m\u001b[0;34m:\u001b[0m  \u001b[0;31m# Python 3\u001b[0m\u001b[0;34m\u001b[0m\u001b[0;34m\u001b[0m\u001b[0m\n",
            "\u001b[0;31mTypeError\u001b[0m: getresponse() got an unexpected keyword argument 'buffering'",
            "\nDuring handling of the above exception, another exception occurred:\n",
            "\u001b[0;31mKeyboardInterrupt\u001b[0m                         Traceback (most recent call last)",
            "\u001b[0;32m<ipython-input-58-1eaef5b859fa>\u001b[0m in \u001b[0;36m<module>\u001b[0;34m\u001b[0m\n\u001b[1;32m     11\u001b[0m \u001b[0;32mwhile\u001b[0m \u001b[0;32mTrue\u001b[0m\u001b[0;34m:\u001b[0m\u001b[0;34m\u001b[0m\u001b[0;34m\u001b[0m\u001b[0m\n\u001b[1;32m     12\u001b[0m     \u001b[0mprint\u001b[0m\u001b[0;34m(\u001b[0m\u001b[0;34m\"...\"\u001b[0m\u001b[0;34m)\u001b[0m\u001b[0;34m\u001b[0m\u001b[0;34m\u001b[0m\u001b[0m\n\u001b[0;32m---> 13\u001b[0;31m     \u001b[0mupdates\u001b[0m \u001b[0;34m=\u001b[0m \u001b[0mtbot\u001b[0m\u001b[0;34m.\u001b[0m\u001b[0mget_updates\u001b[0m\u001b[0;34m(\u001b[0m\u001b[0moffset\u001b[0m\u001b[0;34m=\u001b[0m\u001b[0mupdate_id\u001b[0m\u001b[0;34m)\u001b[0m\u001b[0;34m\u001b[0m\u001b[0;34m\u001b[0m\u001b[0m\n\u001b[0m\u001b[1;32m     14\u001b[0m     \u001b[0mupdates\u001b[0m \u001b[0;34m=\u001b[0m \u001b[0mupdates\u001b[0m\u001b[0;34m[\u001b[0m\u001b[0;34m'result'\u001b[0m\u001b[0;34m]\u001b[0m\u001b[0;34m\u001b[0m\u001b[0;34m\u001b[0m\u001b[0m\n\u001b[1;32m     15\u001b[0m     \u001b[0mprint\u001b[0m\u001b[0;34m(\u001b[0m\u001b[0mupdates\u001b[0m\u001b[0;34m)\u001b[0m\u001b[0;34m\u001b[0m\u001b[0;34m\u001b[0m\u001b[0m\n",
            "\u001b[0;32m<ipython-input-56-57aa2bbfb235>\u001b[0m in \u001b[0;36mget_updates\u001b[0;34m(self, offset)\u001b[0m\n\u001b[1;32m     11\u001b[0m         \u001b[0;32mif\u001b[0m \u001b[0moffset\u001b[0m\u001b[0;34m:\u001b[0m\u001b[0;34m\u001b[0m\u001b[0;34m\u001b[0m\u001b[0m\n\u001b[1;32m     12\u001b[0m             \u001b[0murl\u001b[0m \u001b[0;34m=\u001b[0m \u001b[0murl\u001b[0m\u001b[0;34m+\u001b[0m\u001b[0;34mf\"&offset={offset+1}\"\u001b[0m\u001b[0;34m\u001b[0m\u001b[0;34m\u001b[0m\u001b[0m\n\u001b[0;32m---> 13\u001b[0;31m         \u001b[0murl_info\u001b[0m \u001b[0;34m=\u001b[0m \u001b[0mrequests\u001b[0m\u001b[0;34m.\u001b[0m\u001b[0mget\u001b[0m\u001b[0;34m(\u001b[0m\u001b[0murl\u001b[0m\u001b[0;34m)\u001b[0m\u001b[0;34m\u001b[0m\u001b[0;34m\u001b[0m\u001b[0m\n\u001b[0m\u001b[1;32m     14\u001b[0m         \u001b[0;32mreturn\u001b[0m \u001b[0mjson\u001b[0m\u001b[0;34m.\u001b[0m\u001b[0mloads\u001b[0m\u001b[0;34m(\u001b[0m\u001b[0murl_info\u001b[0m\u001b[0;34m.\u001b[0m\u001b[0mcontent\u001b[0m\u001b[0;34m)\u001b[0m\u001b[0;34m\u001b[0m\u001b[0;34m\u001b[0m\u001b[0m\n\u001b[1;32m     15\u001b[0m \u001b[0;34m\u001b[0m\u001b[0m\n",
            "\u001b[0;32m/usr/local/lib/python3.8/dist-packages/requests/api.py\u001b[0m in \u001b[0;36mget\u001b[0;34m(url, params, **kwargs)\u001b[0m\n\u001b[1;32m     74\u001b[0m \u001b[0;34m\u001b[0m\u001b[0m\n\u001b[1;32m     75\u001b[0m     \u001b[0mkwargs\u001b[0m\u001b[0;34m.\u001b[0m\u001b[0msetdefault\u001b[0m\u001b[0;34m(\u001b[0m\u001b[0;34m'allow_redirects'\u001b[0m\u001b[0;34m,\u001b[0m \u001b[0;32mTrue\u001b[0m\u001b[0;34m)\u001b[0m\u001b[0;34m\u001b[0m\u001b[0;34m\u001b[0m\u001b[0m\n\u001b[0;32m---> 76\u001b[0;31m     \u001b[0;32mreturn\u001b[0m \u001b[0mrequest\u001b[0m\u001b[0;34m(\u001b[0m\u001b[0;34m'get'\u001b[0m\u001b[0;34m,\u001b[0m \u001b[0murl\u001b[0m\u001b[0;34m,\u001b[0m \u001b[0mparams\u001b[0m\u001b[0;34m=\u001b[0m\u001b[0mparams\u001b[0m\u001b[0;34m,\u001b[0m \u001b[0;34m**\u001b[0m\u001b[0mkwargs\u001b[0m\u001b[0;34m)\u001b[0m\u001b[0;34m\u001b[0m\u001b[0;34m\u001b[0m\u001b[0m\n\u001b[0m\u001b[1;32m     77\u001b[0m \u001b[0;34m\u001b[0m\u001b[0m\n\u001b[1;32m     78\u001b[0m \u001b[0;34m\u001b[0m\u001b[0m\n",
            "\u001b[0;32m/usr/local/lib/python3.8/dist-packages/requests/api.py\u001b[0m in \u001b[0;36mrequest\u001b[0;34m(method, url, **kwargs)\u001b[0m\n\u001b[1;32m     59\u001b[0m     \u001b[0;31m# cases, and look like a memory leak in others.\u001b[0m\u001b[0;34m\u001b[0m\u001b[0;34m\u001b[0m\u001b[0;34m\u001b[0m\u001b[0m\n\u001b[1;32m     60\u001b[0m     \u001b[0;32mwith\u001b[0m \u001b[0msessions\u001b[0m\u001b[0;34m.\u001b[0m\u001b[0mSession\u001b[0m\u001b[0;34m(\u001b[0m\u001b[0;34m)\u001b[0m \u001b[0;32mas\u001b[0m \u001b[0msession\u001b[0m\u001b[0;34m:\u001b[0m\u001b[0;34m\u001b[0m\u001b[0;34m\u001b[0m\u001b[0m\n\u001b[0;32m---> 61\u001b[0;31m         \u001b[0;32mreturn\u001b[0m \u001b[0msession\u001b[0m\u001b[0;34m.\u001b[0m\u001b[0mrequest\u001b[0m\u001b[0;34m(\u001b[0m\u001b[0mmethod\u001b[0m\u001b[0;34m=\u001b[0m\u001b[0mmethod\u001b[0m\u001b[0;34m,\u001b[0m \u001b[0murl\u001b[0m\u001b[0;34m=\u001b[0m\u001b[0murl\u001b[0m\u001b[0;34m,\u001b[0m \u001b[0;34m**\u001b[0m\u001b[0mkwargs\u001b[0m\u001b[0;34m)\u001b[0m\u001b[0;34m\u001b[0m\u001b[0;34m\u001b[0m\u001b[0m\n\u001b[0m\u001b[1;32m     62\u001b[0m \u001b[0;34m\u001b[0m\u001b[0m\n\u001b[1;32m     63\u001b[0m \u001b[0;34m\u001b[0m\u001b[0m\n",
            "\u001b[0;32m/usr/local/lib/python3.8/dist-packages/requests/sessions.py\u001b[0m in \u001b[0;36mrequest\u001b[0;34m(self, method, url, params, data, headers, cookies, files, auth, timeout, allow_redirects, proxies, hooks, stream, verify, cert, json)\u001b[0m\n\u001b[1;32m    540\u001b[0m         }\n\u001b[1;32m    541\u001b[0m         \u001b[0msend_kwargs\u001b[0m\u001b[0;34m.\u001b[0m\u001b[0mupdate\u001b[0m\u001b[0;34m(\u001b[0m\u001b[0msettings\u001b[0m\u001b[0;34m)\u001b[0m\u001b[0;34m\u001b[0m\u001b[0;34m\u001b[0m\u001b[0m\n\u001b[0;32m--> 542\u001b[0;31m         \u001b[0mresp\u001b[0m \u001b[0;34m=\u001b[0m \u001b[0mself\u001b[0m\u001b[0;34m.\u001b[0m\u001b[0msend\u001b[0m\u001b[0;34m(\u001b[0m\u001b[0mprep\u001b[0m\u001b[0;34m,\u001b[0m \u001b[0;34m**\u001b[0m\u001b[0msend_kwargs\u001b[0m\u001b[0;34m)\u001b[0m\u001b[0;34m\u001b[0m\u001b[0;34m\u001b[0m\u001b[0m\n\u001b[0m\u001b[1;32m    543\u001b[0m \u001b[0;34m\u001b[0m\u001b[0m\n\u001b[1;32m    544\u001b[0m         \u001b[0;32mreturn\u001b[0m \u001b[0mresp\u001b[0m\u001b[0;34m\u001b[0m\u001b[0;34m\u001b[0m\u001b[0m\n",
            "\u001b[0;32m/usr/local/lib/python3.8/dist-packages/requests/sessions.py\u001b[0m in \u001b[0;36msend\u001b[0;34m(self, request, **kwargs)\u001b[0m\n\u001b[1;32m    653\u001b[0m \u001b[0;34m\u001b[0m\u001b[0m\n\u001b[1;32m    654\u001b[0m         \u001b[0;31m# Send the request\u001b[0m\u001b[0;34m\u001b[0m\u001b[0;34m\u001b[0m\u001b[0;34m\u001b[0m\u001b[0m\n\u001b[0;32m--> 655\u001b[0;31m         \u001b[0mr\u001b[0m \u001b[0;34m=\u001b[0m \u001b[0madapter\u001b[0m\u001b[0;34m.\u001b[0m\u001b[0msend\u001b[0m\u001b[0;34m(\u001b[0m\u001b[0mrequest\u001b[0m\u001b[0;34m,\u001b[0m \u001b[0;34m**\u001b[0m\u001b[0mkwargs\u001b[0m\u001b[0;34m)\u001b[0m\u001b[0;34m\u001b[0m\u001b[0;34m\u001b[0m\u001b[0m\n\u001b[0m\u001b[1;32m    656\u001b[0m \u001b[0;34m\u001b[0m\u001b[0m\n\u001b[1;32m    657\u001b[0m         \u001b[0;31m# Total elapsed time of the request (approximately)\u001b[0m\u001b[0;34m\u001b[0m\u001b[0;34m\u001b[0m\u001b[0;34m\u001b[0m\u001b[0m\n",
            "\u001b[0;32m/usr/local/lib/python3.8/dist-packages/requests/adapters.py\u001b[0m in \u001b[0;36msend\u001b[0;34m(self, request, stream, timeout, verify, cert, proxies)\u001b[0m\n\u001b[1;32m    437\u001b[0m         \u001b[0;32mtry\u001b[0m\u001b[0;34m:\u001b[0m\u001b[0;34m\u001b[0m\u001b[0;34m\u001b[0m\u001b[0m\n\u001b[1;32m    438\u001b[0m             \u001b[0;32mif\u001b[0m \u001b[0;32mnot\u001b[0m \u001b[0mchunked\u001b[0m\u001b[0;34m:\u001b[0m\u001b[0;34m\u001b[0m\u001b[0;34m\u001b[0m\u001b[0m\n\u001b[0;32m--> 439\u001b[0;31m                 resp = conn.urlopen(\n\u001b[0m\u001b[1;32m    440\u001b[0m                     \u001b[0mmethod\u001b[0m\u001b[0;34m=\u001b[0m\u001b[0mrequest\u001b[0m\u001b[0;34m.\u001b[0m\u001b[0mmethod\u001b[0m\u001b[0;34m,\u001b[0m\u001b[0;34m\u001b[0m\u001b[0;34m\u001b[0m\u001b[0m\n\u001b[1;32m    441\u001b[0m                     \u001b[0murl\u001b[0m\u001b[0;34m=\u001b[0m\u001b[0murl\u001b[0m\u001b[0;34m,\u001b[0m\u001b[0;34m\u001b[0m\u001b[0;34m\u001b[0m\u001b[0m\n",
            "\u001b[0;32m/usr/local/lib/python3.8/dist-packages/urllib3/connectionpool.py\u001b[0m in \u001b[0;36murlopen\u001b[0;34m(self, method, url, body, headers, retries, redirect, assert_same_host, timeout, pool_timeout, release_conn, chunked, body_pos, **response_kw)\u001b[0m\n\u001b[1;32m    595\u001b[0m \u001b[0;34m\u001b[0m\u001b[0m\n\u001b[1;32m    596\u001b[0m             \u001b[0;31m# Make the request on the httplib connection object.\u001b[0m\u001b[0;34m\u001b[0m\u001b[0;34m\u001b[0m\u001b[0;34m\u001b[0m\u001b[0m\n\u001b[0;32m--> 597\u001b[0;31m             httplib_response = self._make_request(conn, method, url,\n\u001b[0m\u001b[1;32m    598\u001b[0m                                                   \u001b[0mtimeout\u001b[0m\u001b[0;34m=\u001b[0m\u001b[0mtimeout_obj\u001b[0m\u001b[0;34m,\u001b[0m\u001b[0;34m\u001b[0m\u001b[0;34m\u001b[0m\u001b[0m\n\u001b[1;32m    599\u001b[0m                                                   \u001b[0mbody\u001b[0m\u001b[0;34m=\u001b[0m\u001b[0mbody\u001b[0m\u001b[0;34m,\u001b[0m \u001b[0mheaders\u001b[0m\u001b[0;34m=\u001b[0m\u001b[0mheaders\u001b[0m\u001b[0;34m,\u001b[0m\u001b[0;34m\u001b[0m\u001b[0;34m\u001b[0m\u001b[0m\n",
            "\u001b[0;32m/usr/local/lib/python3.8/dist-packages/urllib3/connectionpool.py\u001b[0m in \u001b[0;36m_make_request\u001b[0;34m(self, conn, method, url, timeout, chunked, **httplib_request_kw)\u001b[0m\n\u001b[1;32m    378\u001b[0m             \u001b[0;32mexcept\u001b[0m \u001b[0mTypeError\u001b[0m\u001b[0;34m:\u001b[0m  \u001b[0;31m# Python 3\u001b[0m\u001b[0;34m\u001b[0m\u001b[0;34m\u001b[0m\u001b[0m\n\u001b[1;32m    379\u001b[0m                 \u001b[0;32mtry\u001b[0m\u001b[0;34m:\u001b[0m\u001b[0;34m\u001b[0m\u001b[0;34m\u001b[0m\u001b[0m\n\u001b[0;32m--> 380\u001b[0;31m                     \u001b[0mhttplib_response\u001b[0m \u001b[0;34m=\u001b[0m \u001b[0mconn\u001b[0m\u001b[0;34m.\u001b[0m\u001b[0mgetresponse\u001b[0m\u001b[0;34m(\u001b[0m\u001b[0;34m)\u001b[0m\u001b[0;34m\u001b[0m\u001b[0;34m\u001b[0m\u001b[0m\n\u001b[0m\u001b[1;32m    381\u001b[0m                 \u001b[0;32mexcept\u001b[0m \u001b[0mException\u001b[0m \u001b[0;32mas\u001b[0m \u001b[0me\u001b[0m\u001b[0;34m:\u001b[0m\u001b[0;34m\u001b[0m\u001b[0;34m\u001b[0m\u001b[0m\n\u001b[1;32m    382\u001b[0m                     \u001b[0;31m# Remove the TypeError from the exception chain in Python 3;\u001b[0m\u001b[0;34m\u001b[0m\u001b[0;34m\u001b[0m\u001b[0;34m\u001b[0m\u001b[0m\n",
            "\u001b[0;32m/usr/lib/python3.8/http/client.py\u001b[0m in \u001b[0;36mgetresponse\u001b[0;34m(self)\u001b[0m\n\u001b[1;32m   1346\u001b[0m         \u001b[0;32mtry\u001b[0m\u001b[0;34m:\u001b[0m\u001b[0;34m\u001b[0m\u001b[0;34m\u001b[0m\u001b[0m\n\u001b[1;32m   1347\u001b[0m             \u001b[0;32mtry\u001b[0m\u001b[0;34m:\u001b[0m\u001b[0;34m\u001b[0m\u001b[0;34m\u001b[0m\u001b[0m\n\u001b[0;32m-> 1348\u001b[0;31m                 \u001b[0mresponse\u001b[0m\u001b[0;34m.\u001b[0m\u001b[0mbegin\u001b[0m\u001b[0;34m(\u001b[0m\u001b[0;34m)\u001b[0m\u001b[0;34m\u001b[0m\u001b[0;34m\u001b[0m\u001b[0m\n\u001b[0m\u001b[1;32m   1349\u001b[0m             \u001b[0;32mexcept\u001b[0m \u001b[0mConnectionError\u001b[0m\u001b[0;34m:\u001b[0m\u001b[0;34m\u001b[0m\u001b[0;34m\u001b[0m\u001b[0m\n\u001b[1;32m   1350\u001b[0m                 \u001b[0mself\u001b[0m\u001b[0;34m.\u001b[0m\u001b[0mclose\u001b[0m\u001b[0;34m(\u001b[0m\u001b[0;34m)\u001b[0m\u001b[0;34m\u001b[0m\u001b[0;34m\u001b[0m\u001b[0m\n",
            "\u001b[0;32m/usr/lib/python3.8/http/client.py\u001b[0m in \u001b[0;36mbegin\u001b[0;34m(self)\u001b[0m\n\u001b[1;32m    314\u001b[0m         \u001b[0;31m# read until we get a non-100 response\u001b[0m\u001b[0;34m\u001b[0m\u001b[0;34m\u001b[0m\u001b[0;34m\u001b[0m\u001b[0m\n\u001b[1;32m    315\u001b[0m         \u001b[0;32mwhile\u001b[0m \u001b[0;32mTrue\u001b[0m\u001b[0;34m:\u001b[0m\u001b[0;34m\u001b[0m\u001b[0;34m\u001b[0m\u001b[0m\n\u001b[0;32m--> 316\u001b[0;31m             \u001b[0mversion\u001b[0m\u001b[0;34m,\u001b[0m \u001b[0mstatus\u001b[0m\u001b[0;34m,\u001b[0m \u001b[0mreason\u001b[0m \u001b[0;34m=\u001b[0m \u001b[0mself\u001b[0m\u001b[0;34m.\u001b[0m\u001b[0m_read_status\u001b[0m\u001b[0;34m(\u001b[0m\u001b[0;34m)\u001b[0m\u001b[0;34m\u001b[0m\u001b[0;34m\u001b[0m\u001b[0m\n\u001b[0m\u001b[1;32m    317\u001b[0m             \u001b[0;32mif\u001b[0m \u001b[0mstatus\u001b[0m \u001b[0;34m!=\u001b[0m \u001b[0mCONTINUE\u001b[0m\u001b[0;34m:\u001b[0m\u001b[0;34m\u001b[0m\u001b[0;34m\u001b[0m\u001b[0m\n\u001b[1;32m    318\u001b[0m                 \u001b[0;32mbreak\u001b[0m\u001b[0;34m\u001b[0m\u001b[0;34m\u001b[0m\u001b[0m\n",
            "\u001b[0;32m/usr/lib/python3.8/http/client.py\u001b[0m in \u001b[0;36m_read_status\u001b[0;34m(self)\u001b[0m\n\u001b[1;32m    275\u001b[0m \u001b[0;34m\u001b[0m\u001b[0m\n\u001b[1;32m    276\u001b[0m     \u001b[0;32mdef\u001b[0m \u001b[0m_read_status\u001b[0m\u001b[0;34m(\u001b[0m\u001b[0mself\u001b[0m\u001b[0;34m)\u001b[0m\u001b[0;34m:\u001b[0m\u001b[0;34m\u001b[0m\u001b[0;34m\u001b[0m\u001b[0m\n\u001b[0;32m--> 277\u001b[0;31m         \u001b[0mline\u001b[0m \u001b[0;34m=\u001b[0m \u001b[0mstr\u001b[0m\u001b[0;34m(\u001b[0m\u001b[0mself\u001b[0m\u001b[0;34m.\u001b[0m\u001b[0mfp\u001b[0m\u001b[0;34m.\u001b[0m\u001b[0mreadline\u001b[0m\u001b[0;34m(\u001b[0m\u001b[0m_MAXLINE\u001b[0m \u001b[0;34m+\u001b[0m \u001b[0;36m1\u001b[0m\u001b[0;34m)\u001b[0m\u001b[0;34m,\u001b[0m \u001b[0;34m\"iso-8859-1\"\u001b[0m\u001b[0;34m)\u001b[0m\u001b[0;34m\u001b[0m\u001b[0;34m\u001b[0m\u001b[0m\n\u001b[0m\u001b[1;32m    278\u001b[0m         \u001b[0;32mif\u001b[0m \u001b[0mlen\u001b[0m\u001b[0;34m(\u001b[0m\u001b[0mline\u001b[0m\u001b[0;34m)\u001b[0m \u001b[0;34m>\u001b[0m \u001b[0m_MAXLINE\u001b[0m\u001b[0;34m:\u001b[0m\u001b[0;34m\u001b[0m\u001b[0;34m\u001b[0m\u001b[0m\n\u001b[1;32m    279\u001b[0m             \u001b[0;32mraise\u001b[0m \u001b[0mLineTooLong\u001b[0m\u001b[0;34m(\u001b[0m\u001b[0;34m\"status line\"\u001b[0m\u001b[0;34m)\u001b[0m\u001b[0;34m\u001b[0m\u001b[0;34m\u001b[0m\u001b[0m\n",
            "\u001b[0;32m/usr/lib/python3.8/socket.py\u001b[0m in \u001b[0;36mreadinto\u001b[0;34m(self, b)\u001b[0m\n\u001b[1;32m    667\u001b[0m         \u001b[0;32mwhile\u001b[0m \u001b[0;32mTrue\u001b[0m\u001b[0;34m:\u001b[0m\u001b[0;34m\u001b[0m\u001b[0;34m\u001b[0m\u001b[0m\n\u001b[1;32m    668\u001b[0m             \u001b[0;32mtry\u001b[0m\u001b[0;34m:\u001b[0m\u001b[0;34m\u001b[0m\u001b[0;34m\u001b[0m\u001b[0m\n\u001b[0;32m--> 669\u001b[0;31m                 \u001b[0;32mreturn\u001b[0m \u001b[0mself\u001b[0m\u001b[0;34m.\u001b[0m\u001b[0m_sock\u001b[0m\u001b[0;34m.\u001b[0m\u001b[0mrecv_into\u001b[0m\u001b[0;34m(\u001b[0m\u001b[0mb\u001b[0m\u001b[0;34m)\u001b[0m\u001b[0;34m\u001b[0m\u001b[0;34m\u001b[0m\u001b[0m\n\u001b[0m\u001b[1;32m    670\u001b[0m             \u001b[0;32mexcept\u001b[0m \u001b[0mtimeout\u001b[0m\u001b[0;34m:\u001b[0m\u001b[0;34m\u001b[0m\u001b[0;34m\u001b[0m\u001b[0m\n\u001b[1;32m    671\u001b[0m                 \u001b[0mself\u001b[0m\u001b[0;34m.\u001b[0m\u001b[0m_timeout_occurred\u001b[0m \u001b[0;34m=\u001b[0m \u001b[0;32mTrue\u001b[0m\u001b[0;34m\u001b[0m\u001b[0;34m\u001b[0m\u001b[0m\n",
            "\u001b[0;32m/usr/lib/python3.8/ssl.py\u001b[0m in \u001b[0;36mrecv_into\u001b[0;34m(self, buffer, nbytes, flags)\u001b[0m\n\u001b[1;32m   1239\u001b[0m                   \u001b[0;34m\"non-zero flags not allowed in calls to recv_into() on %s\"\u001b[0m \u001b[0;34m%\u001b[0m\u001b[0;34m\u001b[0m\u001b[0;34m\u001b[0m\u001b[0m\n\u001b[1;32m   1240\u001b[0m                   self.__class__)\n\u001b[0;32m-> 1241\u001b[0;31m             \u001b[0;32mreturn\u001b[0m \u001b[0mself\u001b[0m\u001b[0;34m.\u001b[0m\u001b[0mread\u001b[0m\u001b[0;34m(\u001b[0m\u001b[0mnbytes\u001b[0m\u001b[0;34m,\u001b[0m \u001b[0mbuffer\u001b[0m\u001b[0;34m)\u001b[0m\u001b[0;34m\u001b[0m\u001b[0;34m\u001b[0m\u001b[0m\n\u001b[0m\u001b[1;32m   1242\u001b[0m         \u001b[0;32melse\u001b[0m\u001b[0;34m:\u001b[0m\u001b[0;34m\u001b[0m\u001b[0;34m\u001b[0m\u001b[0m\n\u001b[1;32m   1243\u001b[0m             \u001b[0;32mreturn\u001b[0m \u001b[0msuper\u001b[0m\u001b[0;34m(\u001b[0m\u001b[0;34m)\u001b[0m\u001b[0;34m.\u001b[0m\u001b[0mrecv_into\u001b[0m\u001b[0;34m(\u001b[0m\u001b[0mbuffer\u001b[0m\u001b[0;34m,\u001b[0m \u001b[0mnbytes\u001b[0m\u001b[0;34m,\u001b[0m \u001b[0mflags\u001b[0m\u001b[0;34m)\u001b[0m\u001b[0;34m\u001b[0m\u001b[0;34m\u001b[0m\u001b[0m\n",
            "\u001b[0;32m/usr/lib/python3.8/ssl.py\u001b[0m in \u001b[0;36mread\u001b[0;34m(self, len, buffer)\u001b[0m\n\u001b[1;32m   1097\u001b[0m         \u001b[0;32mtry\u001b[0m\u001b[0;34m:\u001b[0m\u001b[0;34m\u001b[0m\u001b[0;34m\u001b[0m\u001b[0m\n\u001b[1;32m   1098\u001b[0m             \u001b[0;32mif\u001b[0m \u001b[0mbuffer\u001b[0m \u001b[0;32mis\u001b[0m \u001b[0;32mnot\u001b[0m \u001b[0;32mNone\u001b[0m\u001b[0;34m:\u001b[0m\u001b[0;34m\u001b[0m\u001b[0;34m\u001b[0m\u001b[0m\n\u001b[0;32m-> 1099\u001b[0;31m                 \u001b[0;32mreturn\u001b[0m \u001b[0mself\u001b[0m\u001b[0;34m.\u001b[0m\u001b[0m_sslobj\u001b[0m\u001b[0;34m.\u001b[0m\u001b[0mread\u001b[0m\u001b[0;34m(\u001b[0m\u001b[0mlen\u001b[0m\u001b[0;34m,\u001b[0m \u001b[0mbuffer\u001b[0m\u001b[0;34m)\u001b[0m\u001b[0;34m\u001b[0m\u001b[0;34m\u001b[0m\u001b[0m\n\u001b[0m\u001b[1;32m   1100\u001b[0m             \u001b[0;32melse\u001b[0m\u001b[0;34m:\u001b[0m\u001b[0;34m\u001b[0m\u001b[0;34m\u001b[0m\u001b[0m\n\u001b[1;32m   1101\u001b[0m                 \u001b[0;32mreturn\u001b[0m \u001b[0mself\u001b[0m\u001b[0;34m.\u001b[0m\u001b[0m_sslobj\u001b[0m\u001b[0;34m.\u001b[0m\u001b[0mread\u001b[0m\u001b[0;34m(\u001b[0m\u001b[0mlen\u001b[0m\u001b[0;34m)\u001b[0m\u001b[0;34m\u001b[0m\u001b[0;34m\u001b[0m\u001b[0m\n",
            "\u001b[0;31mKeyboardInterrupt\u001b[0m: "
          ]
        }
      ]
    }
  ]
}